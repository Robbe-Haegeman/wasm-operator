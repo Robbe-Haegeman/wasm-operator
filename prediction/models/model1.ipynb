{
 "cells": [
  {
   "attachments": {},
   "cell_type": "markdown",
   "metadata": {},
   "source": [
    "# Notebook used  to experiment with different models"
   ]
  },
  {
   "cell_type": "code",
   "execution_count": null,
   "metadata": {},
   "outputs": [],
   "source": []
  },
  {
   "cell_type": "code",
   "execution_count": 1,
   "metadata": {},
   "outputs": [],
   "source": [
    "import numpy as np\n",
    "import pandas as pd\n",
    "import matplotlib.pyplot as plt\n",
    "from statsmodels.tsa.stattools import adfuller\n",
    "np.set_printoptions(precision=4)\n",
    "np.set_printoptions(suppress=True)\n",
    "from sklearn.metrics import  mean_pinball_loss"
   ]
  },
  {
   "cell_type": "code",
   "execution_count": 5,
   "metadata": {},
   "outputs": [
    {
     "name": "stdout",
     "output_type": "stream",
     "text": [
      "Collecting pmdarima\n",
      "  Downloading pmdarima-2.0.2-cp310-cp310-manylinux_2_17_x86_64.manylinux2014_x86_64.manylinux_2_28_x86_64.whl (1.8 MB)\n",
      "\u001b[2K     \u001b[90m━━━━━━━━━━━━━━━━━━━━━━━━━━━━━━━━━━━━━━━━\u001b[0m \u001b[32m1.8/1.8 MB\u001b[0m \u001b[31m7.8 MB/s\u001b[0m eta \u001b[36m0:00:00\u001b[0m:00:01\u001b[0m0:01\u001b[0m\n",
      "\u001b[?25hRequirement already satisfied: statsmodels>=0.13.2 in /home/kevin/Documents/unief/ugent2022-2023/masterproef/wasm-operator/prediction/webserver/.venv/lib/python3.10/site-packages (from pmdarima) (0.13.5)\n",
      "Requirement already satisfied: numpy>=1.21.2 in /home/kevin/Documents/unief/ugent2022-2023/masterproef/wasm-operator/prediction/webserver/.venv/lib/python3.10/site-packages (from pmdarima) (1.24.1)\n",
      "Requirement already satisfied: joblib>=0.11 in /home/kevin/Documents/unief/ugent2022-2023/masterproef/wasm-operator/prediction/webserver/.venv/lib/python3.10/site-packages (from pmdarima) (1.2.0)\n",
      "Requirement already satisfied: setuptools!=50.0.0,>=38.6.0 in /home/kevin/Documents/unief/ugent2022-2023/masterproef/wasm-operator/prediction/webserver/.venv/lib/python3.10/site-packages (from pmdarima) (59.6.0)\n",
      "Requirement already satisfied: scikit-learn>=0.22 in /home/kevin/Documents/unief/ugent2022-2023/masterproef/wasm-operator/prediction/webserver/.venv/lib/python3.10/site-packages (from pmdarima) (1.2.1)\n",
      "Collecting Cython!=0.29.18,!=0.29.31,>=0.29\n",
      "  Using cached Cython-0.29.33-cp310-cp310-manylinux_2_17_x86_64.manylinux2014_x86_64.manylinux_2_24_x86_64.whl (1.9 MB)\n",
      "Requirement already satisfied: scipy>=1.3.2 in /home/kevin/Documents/unief/ugent2022-2023/masterproef/wasm-operator/prediction/webserver/.venv/lib/python3.10/site-packages (from pmdarima) (1.10.1)\n",
      "Requirement already satisfied: urllib3 in /home/kevin/Documents/unief/ugent2022-2023/masterproef/wasm-operator/prediction/webserver/.venv/lib/python3.10/site-packages (from pmdarima) (1.26.14)\n",
      "Requirement already satisfied: pandas>=0.19 in /home/kevin/Documents/unief/ugent2022-2023/masterproef/wasm-operator/prediction/webserver/.venv/lib/python3.10/site-packages (from pmdarima) (1.5.3)\n",
      "Requirement already satisfied: python-dateutil>=2.8.1 in /home/kevin/Documents/unief/ugent2022-2023/masterproef/wasm-operator/prediction/webserver/.venv/lib/python3.10/site-packages (from pandas>=0.19->pmdarima) (2.8.2)\n",
      "Requirement already satisfied: pytz>=2020.1 in /home/kevin/Documents/unief/ugent2022-2023/masterproef/wasm-operator/prediction/webserver/.venv/lib/python3.10/site-packages (from pandas>=0.19->pmdarima) (2022.7.1)\n",
      "Requirement already satisfied: threadpoolctl>=2.0.0 in /home/kevin/Documents/unief/ugent2022-2023/masterproef/wasm-operator/prediction/webserver/.venv/lib/python3.10/site-packages (from scikit-learn>=0.22->pmdarima) (3.1.0)\n",
      "Requirement already satisfied: packaging>=21.3 in /home/kevin/Documents/unief/ugent2022-2023/masterproef/wasm-operator/prediction/webserver/.venv/lib/python3.10/site-packages (from statsmodels>=0.13.2->pmdarima) (23.0)\n",
      "Requirement already satisfied: patsy>=0.5.2 in /home/kevin/Documents/unief/ugent2022-2023/masterproef/wasm-operator/prediction/webserver/.venv/lib/python3.10/site-packages (from statsmodels>=0.13.2->pmdarima) (0.5.3)\n",
      "Requirement already satisfied: six in /home/kevin/Documents/unief/ugent2022-2023/masterproef/wasm-operator/prediction/webserver/.venv/lib/python3.10/site-packages (from patsy>=0.5.2->statsmodels>=0.13.2->pmdarima) (1.16.0)\n",
      "Installing collected packages: Cython, pmdarima\n",
      "Successfully installed Cython-0.29.33 pmdarima-2.0.2\n",
      "\n",
      "\u001b[1m[\u001b[0m\u001b[34;49mnotice\u001b[0m\u001b[1;39;49m]\u001b[0m\u001b[39;49m A new release of pip available: \u001b[0m\u001b[31;49m22.3.1\u001b[0m\u001b[39;49m -> \u001b[0m\u001b[32;49m23.0.1\u001b[0m\n",
      "\u001b[1m[\u001b[0m\u001b[34;49mnotice\u001b[0m\u001b[1;39;49m]\u001b[0m\u001b[39;49m To update, run: \u001b[0m\u001b[32;49mpip install --upgrade pip\u001b[0m\n"
     ]
    }
   ],
   "source": [
    "!pip install pmdarima"
   ]
  },
  {
   "cell_type": "code",
   "execution_count": 2,
   "metadata": {},
   "outputs": [],
   "source": [
    "df = pd.read_csv(\"../traces/traces_persona.csv\",parse_dates=[0])\n",
    "diff = [df[\"reconsile_dates\"][i] - df[\"reconsile_dates\"][i-1] for i in range(1,len(df[\"reconsile_dates\"]))]\n",
    "diff_df = pd.DataFrame({\"diff\": diff, \"sec\": [x.total_seconds() for x in diff]}) "
   ]
  },
  {
   "cell_type": "code",
   "execution_count": 43,
   "metadata": {},
   "outputs": [
    {
     "data": {
      "text/plain": [
       "(                      reconsile_dates\n",
       " 0    2023-01-17 13:45:57.861000+00:00\n",
       " 1    2023-01-17 13:46:00.918000+00:00\n",
       " 2    2023-01-17 13:46:05.918000+00:00\n",
       " 3    2023-01-17 13:46:11.046000+00:00\n",
       " 4    2023-01-17 13:46:16.173000+00:00\n",
       " ...                               ...\n",
       " 996  2023-01-17 15:12:21.972000+00:00\n",
       " 997  2023-01-17 15:12:27.178000+00:00\n",
       " 998  2023-01-17 15:12:32.338000+00:00\n",
       " 999  2023-01-17 15:12:37.529000+00:00\n",
       " 1000 2023-01-17 15:12:42.682000+00:00\n",
       " \n",
       " [1001 rows x 1 columns],\n",
       "                       diff    sec\n",
       " 0   0 days 00:00:03.057000  3.057\n",
       " 1          0 days 00:00:05  5.000\n",
       " 2   0 days 00:00:05.128000  5.128\n",
       " 3   0 days 00:00:05.127000  5.127\n",
       " 4   0 days 00:00:05.144000  5.144\n",
       " ..                     ...    ...\n",
       " 995 0 days 00:00:05.180000  5.180\n",
       " 996 0 days 00:00:05.206000  5.206\n",
       " 997 0 days 00:00:05.160000  5.160\n",
       " 998 0 days 00:00:05.191000  5.191\n",
       " 999 0 days 00:00:05.153000  5.153\n",
       " \n",
       " [1000 rows x 2 columns])"
      ]
     },
     "execution_count": 43,
     "metadata": {},
     "output_type": "execute_result"
    }
   ],
   "source": [
    "df,diff_df"
   ]
  },
  {
   "cell_type": "code",
   "execution_count": 45,
   "metadata": {},
   "outputs": [
    {
     "name": "stderr",
     "output_type": "stream",
     "text": [
      "/tmp/ipykernel_13409/1579199578.py:1: FutureWarning: Treating datetime data as categorical rather than numeric in `.describe` is deprecated and will be removed in a future version of pandas. Specify `datetime_is_numeric=True` to silence this warning and adopt the future behavior now.\n",
      "  df.describe(),diff_df.describe()\n"
     ]
    },
    {
     "data": {
      "text/plain": [
       "(                         reconsile_dates\n",
       " count                               1001\n",
       " unique                              1001\n",
       " top     2023-01-17 13:45:57.861000+00:00\n",
       " freq                                   1\n",
       " first   2023-01-17 13:45:57.861000+00:00\n",
       " last    2023-01-17 15:12:42.682000+00:00,\n",
       "                             diff          sec\n",
       " count                       1000  1000.000000\n",
       " mean      0 days 00:00:05.204821     5.204821\n",
       " std    0 days 00:00:00.611235877     0.611236\n",
       " min       0 days 00:00:00.206000     0.206000\n",
       " 25%       0 days 00:00:05.168750     5.168750\n",
       " 50%       0 days 00:00:05.198000     5.198000\n",
       " 75%       0 days 00:00:05.230000     5.230000\n",
       " max       0 days 00:00:21.442000    21.442000)"
      ]
     },
     "execution_count": 45,
     "metadata": {},
     "output_type": "execute_result"
    }
   ],
   "source": [
    "df.describe(),diff_df.describe()"
   ]
  },
  {
   "cell_type": "code",
   "execution_count": 18,
   "metadata": {},
   "outputs": [
    {
     "name": "stdout",
     "output_type": "stream",
     "text": [
      "P-value:  1.0\n"
     ]
    }
   ],
   "source": [
    "df_stationarityTest = adfuller(df['reconsile_dates'], autolag='AIC')\n",
    "print(\"P-value: \", df_stationarityTest[1])"
   ]
  },
  {
   "cell_type": "code",
   "execution_count": 43,
   "metadata": {},
   "outputs": [
    {
     "data": {
      "text/plain": [
       "57000"
      ]
     },
     "execution_count": 43,
     "metadata": {},
     "output_type": "execute_result"
    }
   ],
   "source": [
    "a = df['reconsile_dates'][1]- df['reconsile_dates'][0]\n",
    "a.microseconds"
   ]
  },
  {
   "cell_type": "code",
   "execution_count": 19,
   "metadata": {},
   "outputs": [
    {
     "name": "stderr",
     "output_type": "stream",
     "text": [
      "/home/kevin/Documents/unief/ugent2022-2023/masterproef/wasm-operator/prediction/webserver/.venv/lib/python3.10/site-packages/statsmodels/graphics/tsaplots.py:348: FutureWarning: The default method 'yw' can produce PACF values outside of the [-1,1] interval. After 0.13, the default will change tounadjusted Yule-Walker ('ywm'). You can use this method now by setting method='ywm'.\n",
      "  warnings.warn(\n"
     ]
    },
    {
     "data": {
      "image/png": "[encoded data removed]",
      "text/plain": [
       "<Figure size 640x480 with 1 Axes>"
      ]
     },
     "metadata": {},
     "output_type": "display_data"
    }
   ],
   "source": [
    "from statsmodels.graphics.tsaplots import plot_pacf\n",
    "pacf = plot_pacf(df['reconsile_dates'], lags=25)"
   ]
  },
  {
   "attachments": {},
   "cell_type": "markdown",
   "metadata": {},
   "source": [
    "# only use 2 long wide interval?"
   ]
  },
  {
   "cell_type": "code",
   "execution_count": 55,
   "metadata": {},
   "outputs": [
    {
     "data": {
      "text/plain": [
       "{'whiskers': [<matplotlib.lines.Line2D at 0x7f3d73262590>,\n",
       "  <matplotlib.lines.Line2D at 0x7f3d73262830>],\n",
       " 'caps': [<matplotlib.lines.Line2D at 0x7f3d73261030>,\n",
       "  <matplotlib.lines.Line2D at 0x7f3d73262c50>],\n",
       " 'boxes': [<matplotlib.lines.Line2D at 0x7f3d732622f0>],\n",
       " 'medians': [<matplotlib.lines.Line2D at 0x7f3d73262ef0>],\n",
       " 'fliers': [<matplotlib.lines.Line2D at 0x7f3d73263190>],\n",
       " 'means': []}"
      ]
     },
     "execution_count": 55,
     "metadata": {},
     "output_type": "execute_result"
    },
    {
     "data": {
      "image/png": "[encoded data removed]",
      "text/plain": [
       "<Figure size 640x480 with 1 Axes>"
      ]
     },
     "metadata": {},
     "output_type": "display_data"
    }
   ],
   "source": [
    "plt.boxplot([diff_df[\"sec\"]])"
   ]
  },
  {
   "cell_type": "code",
   "execution_count": 9,
   "metadata": {},
   "outputs": [
    {
     "data": {
      "text/plain": [
       "(array([  2.,   1.,   1.,   0.,   0.,   0.,   0.,   0.,   0.,   0.,   0.,\n",
       "          0.,   0.,   0.,   0.,   0.,   0.,   0.,   0.,   0.,   0.,   0.,\n",
       "          0.,   0.,   0.,   0.,   1.,   0.,   0.,   0.,   0.,   0.,   0.,\n",
       "          0.,   0.,   0.,   0.,   0.,   0.,   0.,   0.,   1.,   0.,   0.,\n",
       "          0.,   4., 480., 443.,  47.,   9.,   5.,   0.,   1.,   0.,   1.,\n",
       "          0.,   0.,   1.,   1.,   1.,   0.,   0.,   0.,   0.,   0.,   0.,\n",
       "          0.,   0.,   0.,   0.,   0.,   0.,   0.,   0.,   0.,   0.,   0.,\n",
       "          0.,   0.,   0.,   0.,   0.,   0.,   0.,   0.,   0.,   0.,   0.,\n",
       "          0.,   0.,   0.,   0.,   0.,   0.,   0.,   0.,   0.,   0.,   0.,\n",
       "          0.,   0.,   0.,   0.,   0.,   0.,   0.,   0.,   0.,   0.,   0.,\n",
       "          0.,   0.,   0.,   0.,   0.,   0.,   0.,   0.,   0.,   0.,   0.,\n",
       "          0.,   0.,   0.,   0.,   0.,   0.,   0.,   0.,   0.,   0.,   0.,\n",
       "          0.,   0.,   0.,   0.,   0.,   0.,   0.,   0.,   0.,   0.,   0.,\n",
       "          0.,   0.,   0.,   0.,   0.,   0.,   0.,   0.,   0.,   0.,   0.,\n",
       "          0.,   0.,   0.,   0.,   0.,   0.,   0.,   0.,   0.,   0.,   0.,\n",
       "          0.,   0.,   0.,   0.,   0.,   0.,   0.,   0.,   0.,   0.,   0.,\n",
       "          0.,   0.,   0.,   0.,   0.,   0.,   0.,   0.,   0.,   0.,   0.,\n",
       "          0.,   0.,   0.,   0.,   0.,   0.,   0.,   0.,   0.,   0.,   0.,\n",
       "          0.,   1.]),\n",
       " array([ 0.206  ,  0.31218,  0.41836,  0.52454,  0.63072,  0.7369 ,\n",
       "         0.84308,  0.94926,  1.05544,  1.16162,  1.2678 ,  1.37398,\n",
       "         1.48016,  1.58634,  1.69252,  1.7987 ,  1.90488,  2.01106,\n",
       "         2.11724,  2.22342,  2.3296 ,  2.43578,  2.54196,  2.64814,\n",
       "         2.75432,  2.8605 ,  2.96668,  3.07286,  3.17904,  3.28522,\n",
       "         3.3914 ,  3.49758,  3.60376,  3.70994,  3.81612,  3.9223 ,\n",
       "         4.02848,  4.13466,  4.24084,  4.34702,  4.4532 ,  4.55938,\n",
       "         4.66556,  4.77174,  4.87792,  4.9841 ,  5.09028,  5.19646,\n",
       "         5.30264,  5.40882,  5.515  ,  5.62118,  5.72736,  5.83354,\n",
       "         5.93972,  6.0459 ,  6.15208,  6.25826,  6.36444,  6.47062,\n",
       "         6.5768 ,  6.68298,  6.78916,  6.89534,  7.00152,  7.1077 ,\n",
       "         7.21388,  7.32006,  7.42624,  7.53242,  7.6386 ,  7.74478,\n",
       "         7.85096,  7.95714,  8.06332,  8.1695 ,  8.27568,  8.38186,\n",
       "         8.48804,  8.59422,  8.7004 ,  8.80658,  8.91276,  9.01894,\n",
       "         9.12512,  9.2313 ,  9.33748,  9.44366,  9.54984,  9.65602,\n",
       "         9.7622 ,  9.86838,  9.97456, 10.08074, 10.18692, 10.2931 ,\n",
       "        10.39928, 10.50546, 10.61164, 10.71782, 10.824  , 10.93018,\n",
       "        11.03636, 11.14254, 11.24872, 11.3549 , 11.46108, 11.56726,\n",
       "        11.67344, 11.77962, 11.8858 , 11.99198, 12.09816, 12.20434,\n",
       "        12.31052, 12.4167 , 12.52288, 12.62906, 12.73524, 12.84142,\n",
       "        12.9476 , 13.05378, 13.15996, 13.26614, 13.37232, 13.4785 ,\n",
       "        13.58468, 13.69086, 13.79704, 13.90322, 14.0094 , 14.11558,\n",
       "        14.22176, 14.32794, 14.43412, 14.5403 , 14.64648, 14.75266,\n",
       "        14.85884, 14.96502, 15.0712 , 15.17738, 15.28356, 15.38974,\n",
       "        15.49592, 15.6021 , 15.70828, 15.81446, 15.92064, 16.02682,\n",
       "        16.133  , 16.23918, 16.34536, 16.45154, 16.55772, 16.6639 ,\n",
       "        16.77008, 16.87626, 16.98244, 17.08862, 17.1948 , 17.30098,\n",
       "        17.40716, 17.51334, 17.61952, 17.7257 , 17.83188, 17.93806,\n",
       "        18.04424, 18.15042, 18.2566 , 18.36278, 18.46896, 18.57514,\n",
       "        18.68132, 18.7875 , 18.89368, 18.99986, 19.10604, 19.21222,\n",
       "        19.3184 , 19.42458, 19.53076, 19.63694, 19.74312, 19.8493 ,\n",
       "        19.95548, 20.06166, 20.16784, 20.27402, 20.3802 , 20.48638,\n",
       "        20.59256, 20.69874, 20.80492, 20.9111 , 21.01728, 21.12346,\n",
       "        21.22964, 21.33582, 21.442  ]),\n",
       " <BarContainer object of 200 artists>)"
      ]
     },
     "execution_count": 9,
     "metadata": {},
     "output_type": "execute_result"
    },
    {
     "data": {
      "image/png": "[encoded data removed]",
      "text/plain": [
       "<Figure size 640x480 with 1 Axes>"
      ]
     },
     "metadata": {},
     "output_type": "display_data"
    }
   ],
   "source": [
    "plt.hist(diff_df[\"sec\"],bins=200)"
   ]
  },
  {
   "cell_type": "code",
   "execution_count": null,
   "metadata": {},
   "outputs": [],
   "source": []
  },
  {
   "attachments": {},
   "cell_type": "markdown",
   "metadata": {},
   "source": [
    "# choosing loss function"
   ]
  },
  {
   "cell_type": "code",
   "execution_count": 3,
   "metadata": {},
   "outputs": [],
   "source": [
    "# as defined in the scikit-learn  docs\n",
    "# sklearn.metrics.mean_pinball_loss\n",
    "def pinball_loss(y_true,y_pred, alpha):\n",
    "    diff = y_true - y_pred\n",
    "    sign = int(diff >= 0)\n",
    "    \n",
    "    loss = alpha * sign  * diff - (1 - alpha) * (1 - sign) * diff\n",
    "    return loss\n",
    "\n",
    "def total_perside_piball_loss(y_true_array,y_pred_array, alpha=0.25):\n",
    "    assert len(y_pred_array) == len(y_true_array)\n",
    "    underEstimate = []\n",
    "    overEstimate = []\n",
    "    totalEstimate = []\n",
    "    for y_true,y_pred in zip(y_true_array,y_pred_array):\n",
    "\n",
    "        diff = y_true - y_pred\n",
    "        sign = int(diff >= 0)\n",
    "        \n",
    "        score = pinball_loss(y_true=y_true, y_pred=y_pred,alpha=alpha)\n",
    "        \n",
    "        if sign == 0:\n",
    "            overEstimate.append(score)\n",
    "        else:\n",
    "            underEstimate.append(score)\n",
    "        totalEstimate.append(score)\n",
    "    \n",
    "    underEstimate_score = np.mean(underEstimate)\n",
    "    overEstimate_score = np.mean(overEstimate)\n",
    "    ##print(totalEstimate)\n",
    "    total_score = np.mean(totalEstimate)\n",
    "    \n",
    "    print(f\"there are {len(underEstimate)} underEstimates with mean {underEstimate_score} \")\n",
    "    print(f\"there are {len(overEstimate)} overEstimates with mean {overEstimate_score}\")\n",
    "    print(f\"total mean absolute pinball score {total_score}\")\n",
    "    return (underEstimate_score,overEstimate_score,total_score)\n",
    "\n",
    "\n",
    "\n",
    "\n"
   ]
  },
  {
   "cell_type": "code",
   "execution_count": 4,
   "metadata": {},
   "outputs": [
    {
     "data": {
      "text/plain": [
       "[<matplotlib.lines.Line2D at 0x7f49da010790>]"
      ]
     },
     "execution_count": 4,
     "metadata": {},
     "output_type": "execute_result"
    },
    {
     "data": {
      "image/png": "[encoded data removed]",
      "text/plain": [
       "<Figure size 640x480 with 1 Axes>"
      ]
     },
     "metadata": {},
     "output_type": "display_data"
    }
   ],
   "source": [
    "alpha = 0.25 \n",
    "x = np.concatenate([np.arange(-5,0,0.1), np.arange(0,5.1,0.1)])\n",
    "y = [pinball_loss(0,i,alpha) for  i in x]\n",
    "plt.plot(x,y)\n"
   ]
  },
  {
   "cell_type": "code",
   "execution_count": 17,
   "metadata": {},
   "outputs": [
    {
     "data": {
      "text/plain": [
       "0.056811443766524805"
      ]
     },
     "execution_count": 17,
     "metadata": {},
     "output_type": "execute_result"
    }
   ],
   "source": [
    "pinball_loss(0,5.2117485916887-5.136,0.25)"
   ]
  },
  {
   "cell_type": "code",
   "execution_count": 28,
   "metadata": {},
   "outputs": [
    {
     "name": "stdout",
     "output_type": "stream",
     "text": [
      "0\n"
     ]
    },
    {
     "data": {
      "text/plain": [
       "0.75"
      ]
     },
     "execution_count": 28,
     "metadata": {},
     "output_type": "execute_result"
    }
   ],
   "source": [
    "pinball_loss(0,1,0.25)"
   ]
  },
  {
   "cell_type": "code",
   "execution_count": null,
   "metadata": {},
   "outputs": [],
   "source": []
  },
  {
   "attachments": {},
   "cell_type": "markdown",
   "metadata": {},
   "source": [
    "## auto regression"
   ]
  },
  {
   "cell_type": "code",
   "execution_count": 4,
   "metadata": {},
   "outputs": [],
   "source": [
    "train_data = diff_df[\"sec\"][:len(df)-200]\n",
    "test_data = diff_df[\"sec\"][len(df)-200:]"
   ]
  },
  {
   "cell_type": "code",
   "execution_count": 5,
   "metadata": {},
   "outputs": [],
   "source": [
    "from statsmodels.tsa.ar_model import AutoReg\n",
    "from pandas.plotting import lag_plot"
   ]
  },
  {
   "cell_type": "code",
   "execution_count": 46,
   "metadata": {},
   "outputs": [
    {
     "data": {
      "text/plain": [
       "<Axes: xlabel='y(t)', ylabel='y(t + 1)'>"
      ]
     },
     "execution_count": 46,
     "metadata": {},
     "output_type": "execute_result"
    },
    {
     "data": {
      "image/png": "[encoded data removed]",
      "text/plain": [
       "<Figure size 640x480 with 1 Axes>"
      ]
     },
     "metadata": {},
     "output_type": "display_data"
    }
   ],
   "source": [
    "lag_plot(diff_df[\"sec\"])"
   ]
  },
  {
   "attachments": {},
   "cell_type": "markdown",
   "metadata": {},
   "source": [
    "not really a lot of corrolation, no real line  visable"
   ]
  },
  {
   "cell_type": "code",
   "execution_count": 47,
   "metadata": {},
   "outputs": [
    {
     "data": {
      "text/plain": [
       "<Axes: xlabel='Lag', ylabel='Autocorrelation'>"
      ]
     },
     "execution_count": 47,
     "metadata": {},
     "output_type": "execute_result"
    },
    {
     "data": {
      "image/png": "[encoded data removed]",
      "text/plain": [
       "<Figure size 640x480 with 1 Axes>"
      ]
     },
     "metadata": {},
     "output_type": "display_data"
    }
   ],
   "source": [
    "from pandas.plotting import autocorrelation_plot\n",
    "autocorrelation_plot(diff_df[\"sec\"])"
   ]
  },
  {
   "attachments": {},
   "cell_type": "markdown",
   "metadata": {},
   "source": [
    "as expected, since the times are constant, no real big  swings, by adding more lag, we don't gain anything "
   ]
  },
  {
   "cell_type": "code",
   "execution_count": 54,
   "metadata": {},
   "outputs": [
    {
     "data": {
      "image/png": "[encoded data removed]",
      "text/plain": [
       "<Figure size 640x480 with 1 Axes>"
      ]
     },
     "execution_count": 54,
     "metadata": {},
     "output_type": "execute_result"
    },
    {
     "data": {
      "image/png": "[encoded data removed]",
      "text/plain": [
       "<Figure size 640x480 with 1 Axes>"
      ]
     },
     "metadata": {},
     "output_type": "display_data"
    }
   ],
   "source": [
    "from statsmodels.graphics.tsaplots import plot_acf\n",
    "plot_acf(diff_df[\"sec\"], lags=50)"
   ]
  },
  {
   "attachments": {},
   "cell_type": "markdown",
   "metadata": {},
   "source": [
    "after 25 we see only small differences"
   ]
  },
  {
   "cell_type": "code",
   "execution_count": 65,
   "metadata": {},
   "outputs": [
    {
     "name": "stdout",
     "output_type": "stream",
     "text": [
      "                            AutoReg Model Results                             \n",
      "==============================================================================\n",
      "Dep. Variable:                    sec   No. Observations:                  801\n",
      "Model:                    AutoReg(10)   Log Likelihood                -813.099\n",
      "Method:               Conditional MLE   S.D. of innovations              0.676\n",
      "Date:                Sun, 26 Feb 2023   AIC                           1650.198\n",
      "Time:                        12:30:32   BIC                           1706.277\n",
      "Sample:                            10   HQIC                          1671.752\n",
      "                                  801                                         \n",
      "==============================================================================\n",
      "                 coef    std err          z      P>|z|      [0.025      0.975]\n",
      "------------------------------------------------------------------------------\n",
      "const          4.2236      0.527      8.018      0.000       3.191       5.256\n",
      "sec.L1         0.0605      0.036      1.702      0.089      -0.009       0.130\n",
      "sec.L2         0.0527      0.036      1.479      0.139      -0.017       0.122\n",
      "sec.L3        -0.0352      0.036     -0.989      0.323      -0.105       0.035\n",
      "sec.L4         0.0020      0.036      0.057      0.954      -0.068       0.072\n",
      "sec.L5        -0.0114      0.036     -0.322      0.747      -0.081       0.058\n",
      "sec.L6        -0.0123      0.036     -0.347      0.728      -0.082       0.057\n",
      "sec.L7         0.0699      0.036      1.968      0.049       0.000       0.140\n",
      "sec.L8         0.0582      0.036      1.633      0.102      -0.012       0.128\n",
      "sec.L9         0.0013      0.036      0.036      0.971      -0.069       0.071\n",
      "sec.L10        0.0034      0.035      0.096      0.923      -0.066       0.073\n",
      "                                    Roots                                     \n",
      "==============================================================================\n",
      "                   Real          Imaginary           Modulus         Frequency\n",
      "------------------------------------------------------------------------------\n",
      "AR.1             1.3059           -0.0000j            1.3059           -0.0000\n",
      "AR.2             0.9164           -0.9390j            1.3121           -0.1269\n",
      "AR.3             0.9164           +0.9390j            1.3121            0.1269\n",
      "AR.4            -0.1146           -1.3995j            1.4042           -0.2630\n",
      "AR.5            -0.1146           +1.3995j            1.4042            0.2630\n",
      "AR.6            -1.5977           -0.0000j            1.5977           -0.5000\n",
      "AR.7            -1.2225           -0.8901j            1.5122           -0.3998\n",
      "AR.8            -1.2225           +0.8901j            1.5122            0.3998\n",
      "AR.9             0.3760           -4.2428j            4.2594           -0.2359\n",
      "AR.10            0.3760           +4.2428j            4.2594            0.2359\n",
      "------------------------------------------------------------------------------\n"
     ]
    }
   ],
   "source": [
    "model = AutoReg(train_data, lags=10).fit()\n",
    "print(model.summary())"
   ]
  },
  {
   "cell_type": "code",
   "execution_count": 66,
   "metadata": {},
   "outputs": [],
   "source": [
    "pred = model.predict(start=801, end=(999), dynamic=False)"
   ]
  },
  {
   "cell_type": "code",
   "execution_count": 67,
   "metadata": {},
   "outputs": [
    {
     "name": "stderr",
     "output_type": "stream",
     "text": [
      "/tmp/ipykernel_8702/1787682364.py:2: UserWarning: color is redundantly defined by the 'color' keyword argument and the fmt string \"yo\" (-> color='y'). The keyword argument will take precedence.\n",
      "  plt.plot(test_data,'yo', color='red')\n"
     ]
    },
    {
     "data": {
      "text/plain": [
       "[<matplotlib.lines.Line2D at 0x7f49d5a833a0>]"
      ]
     },
     "execution_count": 67,
     "metadata": {},
     "output_type": "execute_result"
    },
    {
     "data": {
      "image/png": "[encoded data removed]",
      "text/plain": [
       "<Figure size 640x480 with 1 Axes>"
      ]
     },
     "metadata": {},
     "output_type": "display_data"
    }
   ],
   "source": [
    "\n",
    "plt.plot(pred,'yo')\n",
    "plt.plot(test_data,'yo', color='red')"
   ]
  },
  {
   "cell_type": "code",
   "execution_count": 68,
   "metadata": {},
   "outputs": [
    {
     "name": "stdout",
     "output_type": "stream",
     "text": [
      "there are 93 underEstimates with mean 0.008869325367786214 \n",
      "there are 106 overEstimates with mean 0.02486451147884523\n",
      "total mean absolute pinball score 0.01738937425106388\n"
     ]
    },
    {
     "data": {
      "text/plain": [
       "(0.008869325367786214, 0.02486451147884523, 0.01738937425106388)"
      ]
     },
     "execution_count": 68,
     "metadata": {},
     "output_type": "execute_result"
    }
   ],
   "source": [
    "total_perside_piball_loss(test_data,pred,alpha=0.25)"
   ]
  },
  {
   "cell_type": "code",
   "execution_count": 69,
   "metadata": {},
   "outputs": [
    {
     "data": {
      "text/plain": [
       "0.01738937425106388"
      ]
     },
     "execution_count": 69,
     "metadata": {},
     "output_type": "execute_result"
    }
   ],
   "source": [
    "mean_pinball_loss(test_data,pred,alpha=0.25)"
   ]
  },
  {
   "cell_type": "code",
   "execution_count": 40,
   "metadata": {},
   "outputs": [
    {
     "data": {
      "text/plain": [
       "0.01739966669823268"
      ]
     },
     "execution_count": 40,
     "metadata": {},
     "output_type": "execute_result"
    }
   ],
   "source": [
    "(93*0.00886090487541144 + 106 * 0.024891221882406035)/199"
   ]
  },
  {
   "cell_type": "code",
   "execution_count": 33,
   "metadata": {},
   "outputs": [],
   "source": [
    "difference = test_data - pred\n"
   ]
  },
  {
   "cell_type": "code",
   "execution_count": 82,
   "metadata": {},
   "outputs": [
    {
     "data": {
      "text/plain": [
       "[<matplotlib.lines.Line2D at 0x7f86c90798a0>]"
      ]
     },
     "execution_count": 82,
     "metadata": {},
     "output_type": "execute_result"
    },
    {
     "data": {
      "image/png": "[encoded data removed]",
      "text/plain": [
       "<Figure size 640x480 with 1 Axes>"
      ]
     },
     "metadata": {},
     "output_type": "display_data"
    }
   ],
   "source": [
    "plt.plot(difference[0:100],\"yo\")"
   ]
  },
  {
   "cell_type": "code",
   "execution_count": 83,
   "metadata": {},
   "outputs": [
    {
     "data": {
      "text/plain": [
       "{'whiskers': [<matplotlib.lines.Line2D at 0x7f86c9317700>,\n",
       "  <matplotlib.lines.Line2D at 0x7f86c9315990>],\n",
       " 'caps': [<matplotlib.lines.Line2D at 0x7f86c9316ad0>,\n",
       "  <matplotlib.lines.Line2D at 0x7f86c9316050>],\n",
       " 'boxes': [<matplotlib.lines.Line2D at 0x7f86c9146920>],\n",
       " 'medians': [<matplotlib.lines.Line2D at 0x7f86c93179a0>],\n",
       " 'fliers': [<matplotlib.lines.Line2D at 0x7f86c93156c0>],\n",
       " 'means': []}"
      ]
     },
     "execution_count": 83,
     "metadata": {},
     "output_type": "execute_result"
    },
    {
     "data": {
      "image/png": "[encoded data removed]",
      "text/plain": [
       "<Figure size 640x480 with 1 Axes>"
      ]
     },
     "metadata": {},
     "output_type": "display_data"
    }
   ],
   "source": [
    "plt.boxplot(difference)"
   ]
  },
  {
   "attachments": {},
   "cell_type": "markdown",
   "metadata": {},
   "source": [
    "instead of predicting all test results at a time, do 1 by 1 and relearn like  our framework can do"
   ]
  },
  {
   "cell_type": "code",
   "execution_count": 13,
   "metadata": {},
   "outputs": [],
   "source": [
    "\n",
    "pred = []\n",
    "for i in range(801,1000):\n",
    "    model = AutoReg(diff_df[\"sec\"][:i], lags=10).fit()\n",
    "    predict = model.predict(start=i+1, end=(i+1), dynamic=False)\n",
    "    pred.append(predict[i+1])\n",
    "\n",
    "    "
   ]
  },
  {
   "cell_type": "code",
   "execution_count": 14,
   "metadata": {},
   "outputs": [
    {
     "name": "stdout",
     "output_type": "stream",
     "text": [
      "there are 92 underEstimates with mean 0.009244003971309079 \n",
      "there are 107 overEstimates with mean 0.02511280888429526\n",
      "total mean absolute pinball score 0.01777647696472376\n"
     ]
    },
    {
     "data": {
      "text/plain": [
       "(0.009244003971309079, 0.02511280888429526, 0.01777647696472376)"
      ]
     },
     "execution_count": 14,
     "metadata": {},
     "output_type": "execute_result"
    }
   ],
   "source": [
    "total_perside_piball_loss(test_data,pred,alpha=0.25)"
   ]
  },
  {
   "attachments": {},
   "cell_type": "markdown",
   "metadata": {},
   "source": [
    "as expected  we do not  see a lot of improvement"
   ]
  },
  {
   "attachments": {},
   "cell_type": "markdown",
   "metadata": {},
   "source": [
    "# arima"
   ]
  },
  {
   "cell_type": "code",
   "execution_count": 4,
   "metadata": {},
   "outputs": [],
   "source": [
    "from statsmodels.tsa.arima_model import ARIMA\n",
    "import pmdarima as pm"
   ]
  },
  {
   "cell_type": "code",
   "execution_count": 9,
   "metadata": {},
   "outputs": [],
   "source": [
    "train_data = diff_df[\"sec\"][:len(df)-200]\n",
    "test_data = diff_df[\"sec\"][len(df)-200:]"
   ]
  },
  {
   "cell_type": "code",
   "execution_count": 15,
   "metadata": {},
   "outputs": [
    {
     "name": "stdout",
     "output_type": "stream",
     "text": [
      "p value 1.7417236011374657e-24 < 0.05 => stationairy\n"
     ]
    }
   ],
   "source": [
    "adf,pval,_,_,_,_ = adfuller(diff_df[\"sec\"])\n",
    "print(f\"p value {pval} < 0.05 => stationairy\")"
   ]
  },
  {
   "attachments": {},
   "cell_type": "markdown",
   "metadata": {},
   "source": [
    "choose what arima model"
   ]
  },
  {
   "cell_type": "code",
   "execution_count": 17,
   "metadata": {},
   "outputs": [
    {
     "name": "stdout",
     "output_type": "stream",
     "text": [
      "Performing stepwise search to minimize aic\n",
      " ARIMA(1,0,1)(0,0,0)[0]             : AIC=inf, Time=0.59 sec\n",
      " ARIMA(0,0,0)(0,0,0)[0]             : AIC=6152.731, Time=0.02 sec\n",
      " ARIMA(1,0,0)(0,0,0)[0]             : AIC=2472.050, Time=0.05 sec\n",
      " ARIMA(0,0,1)(0,0,0)[0]             : AIC=5069.922, Time=0.06 sec\n",
      " ARIMA(2,0,0)(0,0,0)[0]             : AIC=inf, Time=0.08 sec\n",
      " ARIMA(2,0,1)(0,0,0)[0]             : AIC=inf, Time=0.48 sec\n",
      " ARIMA(1,0,0)(0,0,0)[0] intercept   : AIC=1853.852, Time=0.18 sec\n",
      " ARIMA(0,0,0)(0,0,0)[0] intercept   : AIC=1856.332, Time=0.09 sec\n",
      " ARIMA(2,0,0)(0,0,0)[0] intercept   : AIC=1853.352, Time=0.35 sec\n",
      " ARIMA(3,0,0)(0,0,0)[0] intercept   : AIC=1854.101, Time=0.59 sec\n",
      " ARIMA(2,0,1)(0,0,0)[0] intercept   : AIC=1855.204, Time=0.25 sec\n",
      " ARIMA(1,0,1)(0,0,0)[0] intercept   : AIC=1854.695, Time=0.64 sec\n",
      " ARIMA(3,0,1)(0,0,0)[0] intercept   : AIC=1856.101, Time=0.86 sec\n",
      "\n",
      "Best model:  ARIMA(2,0,0)(0,0,0)[0] intercept\n",
      "Total fit time: 4.231 seconds\n"
     ]
    }
   ],
   "source": [
    "model = pm.auto_arima(diff_df[\"sec\"], start_p=1, start_q=1,\n",
    "                      test='adf',       # use adftest to find optimal 'd'\n",
    "                      max_p=10, max_q=10, # maximum p and q\n",
    "                      m=1,              # frequency of series\n",
    "                      d=None,           # let model determine 'd'\n",
    "                      seasonal=False,   # No Seasonality\n",
    "                      start_P=0, \n",
    "                      D=0, \n",
    "                      trace=True,\n",
    "                      error_action='ignore',  \n",
    "                      suppress_warnings=True, \n",
    "                      stepwise=True)\n"
   ]
  },
  {
   "cell_type": "code",
   "execution_count": 18,
   "metadata": {},
   "outputs": [
    {
     "data": {
      "text/html": [
       "<table class=\"simpletable\">\n",
       "<caption>SARIMAX Results</caption>\n",
       "<tr>\n",
       "  <th>Dep. Variable:</th>           <td>y</td>        <th>  No. Observations:  </th>   <td>1000</td>  \n",
       "</tr>\n",
       "<tr>\n",
       "  <th>Model:</th>           <td>SARIMAX(2, 0, 0)</td> <th>  Log Likelihood     </th> <td>-922.676</td>\n",
       "</tr>\n",
       "<tr>\n",
       "  <th>Date:</th>            <td>Mon, 27 Feb 2023</td> <th>  AIC                </th> <td>1853.352</td>\n",
       "</tr>\n",
       "<tr>\n",
       "  <th>Time:</th>                <td>17:26:33</td>     <th>  BIC                </th> <td>1872.983</td>\n",
       "</tr>\n",
       "<tr>\n",
       "  <th>Sample:</th>                  <td>0</td>        <th>  HQIC               </th> <td>1860.813</td>\n",
       "</tr>\n",
       "<tr>\n",
       "  <th></th>                      <td> - 1000</td>     <th>                     </th>     <td> </td>   \n",
       "</tr>\n",
       "<tr>\n",
       "  <th>Covariance Type:</th>        <td>opg</td>       <th>                     </th>     <td> </td>   \n",
       "</tr>\n",
       "</table>\n",
       "<table class=\"simpletable\">\n",
       "<tr>\n",
       "      <td></td>         <th>coef</th>     <th>std err</th>      <th>z</th>      <th>P>|z|</th>  <th>[0.025</th>    <th>0.975]</th>  \n",
       "</tr>\n",
       "<tr>\n",
       "  <th>intercept</th> <td>    4.6063</td> <td>    0.265</td> <td>   17.362</td> <td> 0.000</td> <td>    4.086</td> <td>    5.126</td>\n",
       "</tr>\n",
       "<tr>\n",
       "  <th>ar.L1</th>     <td>    0.0643</td> <td>    0.013</td> <td>    4.988</td> <td> 0.000</td> <td>    0.039</td> <td>    0.090</td>\n",
       "</tr>\n",
       "<tr>\n",
       "  <th>ar.L2</th>     <td>    0.0506</td> <td>    0.048</td> <td>    1.048</td> <td> 0.295</td> <td>   -0.044</td> <td>    0.145</td>\n",
       "</tr>\n",
       "<tr>\n",
       "  <th>sigma2</th>    <td>    0.3706</td> <td>    0.002</td> <td>  232.902</td> <td> 0.000</td> <td>    0.368</td> <td>    0.374</td>\n",
       "</tr>\n",
       "</table>\n",
       "<table class=\"simpletable\">\n",
       "<tr>\n",
       "  <th>Ljung-Box (L1) (Q):</th>     <td>0.00</td> <th>  Jarque-Bera (JB):  </th> <td>11316047.26</td>\n",
       "</tr>\n",
       "<tr>\n",
       "  <th>Prob(Q):</th>                <td>0.98</td> <th>  Prob(JB):          </th>    <td>0.00</td>    \n",
       "</tr>\n",
       "<tr>\n",
       "  <th>Heteroskedasticity (H):</th> <td>0.00</td> <th>  Skew:              </th>    <td>16.98</td>   \n",
       "</tr>\n",
       "<tr>\n",
       "  <th>Prob(H) (two-sided):</th>    <td>0.00</td> <th>  Kurtosis:          </th>   <td>523.03</td>   \n",
       "</tr>\n",
       "</table><br/><br/>Warnings:<br/>[1] Covariance matrix calculated using the outer product of gradients (complex-step)."
      ],
      "text/plain": [
       "<class 'statsmodels.iolib.summary.Summary'>\n",
       "\"\"\"\n",
       "                               SARIMAX Results                                \n",
       "==============================================================================\n",
       "Dep. Variable:                      y   No. Observations:                 1000\n",
       "Model:               SARIMAX(2, 0, 0)   Log Likelihood                -922.676\n",
       "Date:                Mon, 27 Feb 2023   AIC                           1853.352\n",
       "Time:                        17:26:33   BIC                           1872.983\n",
       "Sample:                             0   HQIC                          1860.813\n",
       "                               - 1000                                         \n",
       "Covariance Type:                  opg                                         \n",
       "==============================================================================\n",
       "                 coef    std err          z      P>|z|      [0.025      0.975]\n",
       "------------------------------------------------------------------------------\n",
       "intercept      4.6063      0.265     17.362      0.000       4.086       5.126\n",
       "ar.L1          0.0643      0.013      4.988      0.000       0.039       0.090\n",
       "ar.L2          0.0506      0.048      1.048      0.295      -0.044       0.145\n",
       "sigma2         0.3706      0.002    232.902      0.000       0.368       0.374\n",
       "===================================================================================\n",
       "Ljung-Box (L1) (Q):                   0.00   Jarque-Bera (JB):          11316047.26\n",
       "Prob(Q):                              0.98   Prob(JB):                         0.00\n",
       "Heteroskedasticity (H):               0.00   Skew:                            16.98\n",
       "Prob(H) (two-sided):                  0.00   Kurtosis:                       523.03\n",
       "===================================================================================\n",
       "\n",
       "Warnings:\n",
       "[1] Covariance matrix calculated using the outer product of gradients (complex-step).\n",
       "\"\"\""
      ]
     },
     "execution_count": 18,
     "metadata": {},
     "output_type": "execute_result"
    }
   ],
   "source": [
    "model.summary()"
   ]
  },
  {
   "cell_type": "code",
   "execution_count": 9,
   "metadata": {},
   "outputs": [],
   "source": [
    "from statsmodels.tsa.arima.model import ARIMA"
   ]
  },
  {
   "cell_type": "code",
   "execution_count": 10,
   "metadata": {},
   "outputs": [],
   "source": [
    "model = ARIMA(train_data, order=(2, 0, 0))"
   ]
  },
  {
   "cell_type": "code",
   "execution_count": 11,
   "metadata": {},
   "outputs": [
    {
     "data": {
      "text/html": [
       "<table class=\"simpletable\">\n",
       "<caption>SARIMAX Results</caption>\n",
       "<tr>\n",
       "  <th>Dep. Variable:</th>          <td>sec</td>       <th>  No. Observations:  </th>    <td>801</td>  \n",
       "</tr>\n",
       "<tr>\n",
       "  <th>Model:</th>            <td>ARIMA(2, 0, 0)</td>  <th>  Log Likelihood     </th> <td>-827.512</td>\n",
       "</tr>\n",
       "<tr>\n",
       "  <th>Date:</th>            <td>Thu, 02 Mar 2023</td> <th>  AIC                </th> <td>1663.023</td>\n",
       "</tr>\n",
       "<tr>\n",
       "  <th>Time:</th>                <td>16:25:11</td>     <th>  BIC                </th> <td>1681.767</td>\n",
       "</tr>\n",
       "<tr>\n",
       "  <th>Sample:</th>                  <td>0</td>        <th>  HQIC               </th> <td>1670.223</td>\n",
       "</tr>\n",
       "<tr>\n",
       "  <th></th>                      <td> - 801</td>      <th>                     </th>     <td> </td>   \n",
       "</tr>\n",
       "<tr>\n",
       "  <th>Covariance Type:</th>        <td>opg</td>       <th>                     </th>     <td> </td>   \n",
       "</tr>\n",
       "</table>\n",
       "<table class=\"simpletable\">\n",
       "<tr>\n",
       "     <td></td>       <th>coef</th>     <th>std err</th>      <th>z</th>      <th>P>|z|</th>  <th>[0.025</th>    <th>0.975]</th>  \n",
       "</tr>\n",
       "<tr>\n",
       "  <th>const</th>  <td>    5.2039</td> <td>    0.042</td> <td>  124.210</td> <td> 0.000</td> <td>    5.122</td> <td>    5.286</td>\n",
       "</tr>\n",
       "<tr>\n",
       "  <th>ar.L1</th>  <td>    0.0641</td> <td>    0.016</td> <td>    3.980</td> <td> 0.000</td> <td>    0.033</td> <td>    0.096</td>\n",
       "</tr>\n",
       "<tr>\n",
       "  <th>ar.L2</th>  <td>    0.0501</td> <td>    0.059</td> <td>    0.844</td> <td> 0.399</td> <td>   -0.066</td> <td>    0.166</td>\n",
       "</tr>\n",
       "<tr>\n",
       "  <th>sigma2</th> <td>    0.4622</td> <td>    0.002</td> <td>  186.555</td> <td> 0.000</td> <td>    0.457</td> <td>    0.467</td>\n",
       "</tr>\n",
       "</table>\n",
       "<table class=\"simpletable\">\n",
       "<tr>\n",
       "  <th>Ljung-Box (L1) (Q):</th>     <td>0.00</td> <th>  Jarque-Bera (JB):  </th> <td>5830787.95</td>\n",
       "</tr>\n",
       "<tr>\n",
       "  <th>Prob(Q):</th>                <td>0.98</td> <th>  Prob(JB):          </th>    <td>0.00</td>   \n",
       "</tr>\n",
       "<tr>\n",
       "  <th>Heteroskedasticity (H):</th> <td>0.00</td> <th>  Skew:              </th>    <td>15.23</td>  \n",
       "</tr>\n",
       "<tr>\n",
       "  <th>Prob(H) (two-sided):</th>    <td>0.00</td> <th>  Kurtosis:          </th>   <td>419.87</td>  \n",
       "</tr>\n",
       "</table><br/><br/>Warnings:<br/>[1] Covariance matrix calculated using the outer product of gradients (complex-step)."
      ],
      "text/plain": [
       "<class 'statsmodels.iolib.summary.Summary'>\n",
       "\"\"\"\n",
       "                               SARIMAX Results                                \n",
       "==============================================================================\n",
       "Dep. Variable:                    sec   No. Observations:                  801\n",
       "Model:                 ARIMA(2, 0, 0)   Log Likelihood                -827.512\n",
       "Date:                Thu, 02 Mar 2023   AIC                           1663.023\n",
       "Time:                        16:25:11   BIC                           1681.767\n",
       "Sample:                             0   HQIC                          1670.223\n",
       "                                - 801                                         \n",
       "Covariance Type:                  opg                                         \n",
       "==============================================================================\n",
       "                 coef    std err          z      P>|z|      [0.025      0.975]\n",
       "------------------------------------------------------------------------------\n",
       "const          5.2039      0.042    124.210      0.000       5.122       5.286\n",
       "ar.L1          0.0641      0.016      3.980      0.000       0.033       0.096\n",
       "ar.L2          0.0501      0.059      0.844      0.399      -0.066       0.166\n",
       "sigma2         0.4622      0.002    186.555      0.000       0.457       0.467\n",
       "===================================================================================\n",
       "Ljung-Box (L1) (Q):                   0.00   Jarque-Bera (JB):           5830787.95\n",
       "Prob(Q):                              0.98   Prob(JB):                         0.00\n",
       "Heteroskedasticity (H):               0.00   Skew:                            15.23\n",
       "Prob(H) (two-sided):                  0.00   Kurtosis:                       419.87\n",
       "===================================================================================\n",
       "\n",
       "Warnings:\n",
       "[1] Covariance matrix calculated using the outer product of gradients (complex-step).\n",
       "\"\"\""
      ]
     },
     "execution_count": 11,
     "metadata": {},
     "output_type": "execute_result"
    }
   ],
   "source": [
    "result = model.fit()\n",
    "result.summary()\n"
   ]
  },
  {
   "cell_type": "code",
   "execution_count": 12,
   "metadata": {},
   "outputs": [],
   "source": [
    "pred = result.predict(start=801, end=(999))"
   ]
  },
  {
   "cell_type": "code",
   "execution_count": 13,
   "metadata": {},
   "outputs": [
    {
     "name": "stderr",
     "output_type": "stream",
     "text": [
      "/tmp/ipykernel_29571/999615282.py:2: UserWarning: color is redundantly defined by the 'color' keyword argument and the fmt string \"yo\" (-> color='y'). The keyword argument will take precedence.\n",
      "  plt.plot(test_data,'yo', color='red')\n"
     ]
    },
    {
     "data": {
      "text/plain": [
       "[<matplotlib.lines.Line2D at 0x7fddada8d450>]"
      ]
     },
     "execution_count": 13,
     "metadata": {},
     "output_type": "execute_result"
    },
    {
     "data": {
      "image/png": "[encoded data removed]",
      "text/plain": [
       "<Figure size 640x480 with 1 Axes>"
      ]
     },
     "metadata": {},
     "output_type": "display_data"
    }
   ],
   "source": [
    "plt.plot(pred,'yo')\n",
    "plt.plot(test_data,'yo', color='red')"
   ]
  },
  {
   "cell_type": "code",
   "execution_count": 14,
   "metadata": {},
   "outputs": [
    {
     "name": "stdout",
     "output_type": "stream",
     "text": [
      "there are 105 underEstimates with mean 0.00882464706411622 \n",
      "there are 94 overEstimates with mean 0.024656273451780175\n",
      "total mean absolute pinball score 0.016302902744721303\n"
     ]
    },
    {
     "data": {
      "text/plain": [
       "(0.00882464706411622, 0.024656273451780175, 0.016302902744721303)"
      ]
     },
     "execution_count": 14,
     "metadata": {},
     "output_type": "execute_result"
    }
   ],
   "source": [
    "total_perside_piball_loss(test_data,pred,alpha=0.25)"
   ]
  },
  {
   "cell_type": "code",
   "execution_count": 15,
   "metadata": {},
   "outputs": [],
   "source": [
    "pred = []\n",
    "for i in range(801,1000):\n",
    "    model = ARIMA(diff_df[\"sec\"][:i], order=(2, 0, 0)).fit()\n",
    "    predict = model.predict(start=i+1, end=(i+1), dynamic=False)\n",
    "    pred.append(predict[i+1])"
   ]
  },
  {
   "cell_type": "code",
   "execution_count": 16,
   "metadata": {},
   "outputs": [
    {
     "name": "stdout",
     "output_type": "stream",
     "text": [
      "there are 99 underEstimates with mean 0.00932542573735128 \n",
      "there are 100 overEstimates with mean 0.02383373496905838\n",
      "total mean absolute pinball score 0.01661603339147545\n"
     ]
    },
    {
     "data": {
      "text/plain": [
       "(0.00932542573735128, 0.02383373496905838, 0.01661603339147545)"
      ]
     },
     "execution_count": 16,
     "metadata": {},
     "output_type": "execute_result"
    }
   ],
   "source": [
    "total_perside_piball_loss(test_data,pred,alpha=0.25)"
   ]
  },
  {
   "attachments": {},
   "cell_type": "markdown",
   "metadata": {},
   "source": [
    "# sarima"
   ]
  },
  {
   "attachments": {},
   "cell_type": "markdown",
   "metadata": {},
   "source": [
    "our data is  not really  seasonal so  skip this"
   ]
  },
  {
   "cell_type": "code",
   "execution_count": 19,
   "metadata": {},
   "outputs": [],
   "source": [
    "from statsmodels.tsa.statespace.sarimax import SARIMAX"
   ]
  },
  {
   "cell_type": "code",
   "execution_count": 24,
   "metadata": {},
   "outputs": [],
   "source": [
    "model = SARIMAX(train_data, order=(2, 0, 0))"
   ]
  },
  {
   "cell_type": "code",
   "execution_count": 28,
   "metadata": {},
   "outputs": [
    {
     "name": "stdout",
     "output_type": "stream",
     "text": [
      "RUNNING THE L-BFGS-B CODE\n",
      "\n",
      "           * * *\n",
      "\n",
      "Machine precision = 2.220D-16\n",
      " N =            3     M =           10\n",
      "\n",
      "At X0         0 variables are exactly at the bounds\n",
      "\n",
      "At iterate    0    f=  1.20860D+00    |proj g|=  4.57718D-03\n",
      "\n",
      "At iterate    5    f=  1.20859D+00    |proj g|=  7.01555D-04\n",
      "\n",
      "At iterate   10    f=  1.20858D+00    |proj g|=  6.32112D-06\n",
      "\n",
      "           * * *\n",
      "\n",
      "Tit   = total number of iterations\n",
      "Tnf   = total number of function evaluations\n",
      "Tnint = total number of segments explored during Cauchy searches\n",
      "Skip  = number of BFGS updates skipped\n",
      "Nact  = number of active bounds at final generalized Cauchy point\n",
      "Projg = norm of the final projected gradient\n",
      "F     = final function value\n",
      "\n",
      "           * * *\n",
      "\n",
      "   N    Tit     Tnf  Tnint  Skip  Nact     Projg        F\n",
      "    3     10     15      1     0     0   6.321D-06   1.209D+00\n",
      "  F =   1.2085804439383512     \n",
      "\n",
      "CONVERGENCE: NORM_OF_PROJECTED_GRADIENT_<=_PGTOL            \n"
     ]
    },
    {
     "name": "stderr",
     "output_type": "stream",
     "text": [
      " This problem is unconstrained.\n"
     ]
    },
    {
     "data": {
      "text/html": [
       "<table class=\"simpletable\">\n",
       "<caption>SARIMAX Results</caption>\n",
       "<tr>\n",
       "  <th>Dep. Variable:</th>          <td>sec</td>       <th>  No. Observations:  </th>    <td>801</td>  \n",
       "</tr>\n",
       "<tr>\n",
       "  <th>Model:</th>           <td>SARIMAX(2, 0, 0)</td> <th>  Log Likelihood     </th> <td>-968.073</td>\n",
       "</tr>\n",
       "<tr>\n",
       "  <th>Date:</th>            <td>Mon, 27 Feb 2023</td> <th>  AIC                </th> <td>1942.146</td>\n",
       "</tr>\n",
       "<tr>\n",
       "  <th>Time:</th>                <td>17:35:07</td>     <th>  BIC                </th> <td>1956.203</td>\n",
       "</tr>\n",
       "<tr>\n",
       "  <th>Sample:</th>                  <td>0</td>        <th>  HQIC               </th> <td>1947.546</td>\n",
       "</tr>\n",
       "<tr>\n",
       "  <th></th>                      <td> - 801</td>      <th>                     </th>     <td> </td>   \n",
       "</tr>\n",
       "<tr>\n",
       "  <th>Covariance Type:</th>        <td>opg</td>       <th>                     </th>     <td> </td>   \n",
       "</tr>\n",
       "</table>\n",
       "<table class=\"simpletable\">\n",
       "<tr>\n",
       "     <td></td>       <th>coef</th>     <th>std err</th>      <th>z</th>      <th>P>|z|</th>  <th>[0.025</th>    <th>0.975]</th>  \n",
       "</tr>\n",
       "<tr>\n",
       "  <th>ar.L1</th>  <td>    0.5034</td> <td>    0.004</td> <td>  128.593</td> <td> 0.000</td> <td>    0.496</td> <td>    0.511</td>\n",
       "</tr>\n",
       "<tr>\n",
       "  <th>ar.L2</th>  <td>    0.4882</td> <td>    0.005</td> <td>  105.620</td> <td> 0.000</td> <td>    0.479</td> <td>    0.497</td>\n",
       "</tr>\n",
       "<tr>\n",
       "  <th>sigma2</th> <td>    0.6533</td> <td>    0.003</td> <td>  211.044</td> <td> 0.000</td> <td>    0.647</td> <td>    0.659</td>\n",
       "</tr>\n",
       "</table>\n",
       "<table class=\"simpletable\">\n",
       "<tr>\n",
       "  <th>Ljung-Box (L1) (Q):</th>     <td>13.51</td> <th>  Jarque-Bera (JB):  </th> <td>1811319.12</td>\n",
       "</tr>\n",
       "<tr>\n",
       "  <th>Prob(Q):</th>                <td>0.00</td>  <th>  Prob(JB):          </th>    <td>0.00</td>   \n",
       "</tr>\n",
       "<tr>\n",
       "  <th>Heteroskedasticity (H):</th> <td>0.00</td>  <th>  Skew:              </th>    <td>7.68</td>   \n",
       "</tr>\n",
       "<tr>\n",
       "  <th>Prob(H) (two-sided):</th>    <td>0.00</td>  <th>  Kurtosis:          </th>   <td>235.46</td>  \n",
       "</tr>\n",
       "</table><br/><br/>Warnings:<br/>[1] Covariance matrix calculated using the outer product of gradients (complex-step)."
      ],
      "text/plain": [
       "<class 'statsmodels.iolib.summary.Summary'>\n",
       "\"\"\"\n",
       "                               SARIMAX Results                                \n",
       "==============================================================================\n",
       "Dep. Variable:                    sec   No. Observations:                  801\n",
       "Model:               SARIMAX(2, 0, 0)   Log Likelihood                -968.073\n",
       "Date:                Mon, 27 Feb 2023   AIC                           1942.146\n",
       "Time:                        17:35:07   BIC                           1956.203\n",
       "Sample:                             0   HQIC                          1947.546\n",
       "                                - 801                                         \n",
       "Covariance Type:                  opg                                         \n",
       "==============================================================================\n",
       "                 coef    std err          z      P>|z|      [0.025      0.975]\n",
       "------------------------------------------------------------------------------\n",
       "ar.L1          0.5034      0.004    128.593      0.000       0.496       0.511\n",
       "ar.L2          0.4882      0.005    105.620      0.000       0.479       0.497\n",
       "sigma2         0.6533      0.003    211.044      0.000       0.647       0.659\n",
       "===================================================================================\n",
       "Ljung-Box (L1) (Q):                  13.51   Jarque-Bera (JB):           1811319.12\n",
       "Prob(Q):                              0.00   Prob(JB):                         0.00\n",
       "Heteroskedasticity (H):               0.00   Skew:                             7.68\n",
       "Prob(H) (two-sided):                  0.00   Kurtosis:                       235.46\n",
       "===================================================================================\n",
       "\n",
       "Warnings:\n",
       "[1] Covariance matrix calculated using the outer product of gradients (complex-step).\n",
       "\"\"\""
      ]
     },
     "execution_count": 28,
     "metadata": {},
     "output_type": "execute_result"
    }
   ],
   "source": [
    "result = model.fit()\n",
    "result.summary()"
   ]
  },
  {
   "attachments": {},
   "cell_type": "markdown",
   "metadata": {},
   "source": []
  },
  {
   "cell_type": "code",
   "execution_count": 29,
   "metadata": {},
   "outputs": [],
   "source": [
    "pred = result.predict(start=801, end=(999))"
   ]
  },
  {
   "cell_type": "code",
   "execution_count": null,
   "metadata": {},
   "outputs": [],
   "source": [
    "plt.plot(pred,'yo')\n",
    "plt.plot(test_data,'yo', color='red')"
   ]
  },
  {
   "cell_type": "code",
   "execution_count": null,
   "metadata": {},
   "outputs": [],
   "source": [
    "total_perside_piball_loss(test_data,pred,alpha=0.25)"
   ]
  },
  {
   "attachments": {},
   "cell_type": "markdown",
   "metadata": {},
   "source": [
    "predicting that far into the future is pritty bad"
   ]
  },
  {
   "cell_type": "code",
   "execution_count": null,
   "metadata": {},
   "outputs": [],
   "source": [
    "pred = []\n",
    "for i in range(801,1000):\n",
    "    model = SARIMAX(diff_df[\"sec\"][:i], order=(2, 0, 0)).fit()\n",
    "    predict = model.predict(start=i+1, end=(i+1), dynamic=False)\n",
    "    pred.append(predict[i+1])\n"
   ]
  },
  {
   "cell_type": "code",
   "execution_count": 33,
   "metadata": {},
   "outputs": [
    {
     "name": "stdout",
     "output_type": "stream",
     "text": [
      "there are 170 underEstimates with mean 0.018288573610972775 \n",
      "there are 29 overEstimates with mean 0.01960165803133733\n",
      "total mean absolute pinball score 0.018479927621980675\n"
     ]
    },
    {
     "data": {
      "text/plain": [
       "(0.018288573610972775, 0.01960165803133733, 0.018479927621980675)"
      ]
     },
     "execution_count": 33,
     "metadata": {},
     "output_type": "execute_result"
    }
   ],
   "source": [
    "total_perside_piball_loss(test_data,pred,alpha=0.25)"
   ]
  },
  {
   "attachments": {},
   "cell_type": "markdown",
   "metadata": {},
   "source": [
    "model predicts pritty good, underestimates more, which is better for our framework"
   ]
  },
  {
   "cell_type": "code",
   "execution_count": 36,
   "metadata": {},
   "outputs": [
    {
     "name": "stderr",
     "output_type": "stream",
     "text": [
      "/tmp/ipykernel_6088/1564517916.py:2: UserWarning: color is redundantly defined by the 'color' keyword argument and the fmt string \"yo\" (-> color='y'). The keyword argument will take precedence.\n",
      "  plt.plot(test_data,'yo', color='red')\n"
     ]
    },
    {
     "data": {
      "text/plain": [
       "[<matplotlib.lines.Line2D at 0x7f78f6537940>]"
      ]
     },
     "execution_count": 36,
     "metadata": {},
     "output_type": "execute_result"
    },
    {
     "data": {
      "image/png": "[encoded data removed]",
      "text/plain": [
       "<Figure size 640x480 with 1 Axes>"
      ]
     },
     "metadata": {},
     "output_type": "display_data"
    }
   ],
   "source": [
    "\n",
    "plt.plot(range(801,1000),pred,'yo')\n",
    "plt.plot(test_data,'yo', color='red')"
   ]
  },
  {
   "cell_type": "code",
   "execution_count": null,
   "metadata": {},
   "outputs": [],
   "source": []
  },
  {
   "attachments": {},
   "cell_type": "markdown",
   "metadata": {},
   "source": [
    "# Exponential smoothing"
   ]
  },
  {
   "attachments": {},
   "cell_type": "markdown",
   "metadata": {},
   "source": [
    "## simple  smoothing"
   ]
  },
  {
   "cell_type": "code",
   "execution_count": 4,
   "metadata": {},
   "outputs": [],
   "source": [
    "from statsmodels.tsa.api import  SimpleExpSmoothing"
   ]
  },
  {
   "cell_type": "code",
   "execution_count": 5,
   "metadata": {},
   "outputs": [],
   "source": [
    "model = SimpleExpSmoothing(diff_df[\"sec\"], initialization_method=\"estimated\")"
   ]
  },
  {
   "cell_type": "code",
   "execution_count": 6,
   "metadata": {},
   "outputs": [],
   "source": [
    "result = model.fit()"
   ]
  },
  {
   "cell_type": "code",
   "execution_count": 7,
   "metadata": {},
   "outputs": [],
   "source": [
    "pred =  result.predict(start=801, end=(999))"
   ]
  },
  {
   "cell_type": "code",
   "execution_count": 11,
   "metadata": {},
   "outputs": [
    {
     "data": {
      "text/plain": [
       "[<matplotlib.lines.Line2D at 0x7f8e00352f20>]"
      ]
     },
     "execution_count": 11,
     "metadata": {},
     "output_type": "execute_result"
    },
    {
     "data": {
      "image/png": "[encoded data removed]",
      "text/plain": [
       "<Figure size 640x480 with 1 Axes>"
      ]
     },
     "metadata": {},
     "output_type": "display_data"
    }
   ],
   "source": [
    "plt.plot(pred,'yo')\n",
    "plt.plot(test_data,'o', color='red')"
   ]
  },
  {
   "cell_type": "code",
   "execution_count": 12,
   "metadata": {},
   "outputs": [
    {
     "name": "stdout",
     "output_type": "stream",
     "text": [
      "there are 102 underEstimates with mean 0.008848771066131862 \n",
      "there are 97 overEstimates with mean 0.024592256672079184\n",
      "total mean absolute pinball score 0.01652273138661875\n"
     ]
    },
    {
     "data": {
      "text/plain": [
       "(0.008848771066131862, 0.024592256672079184, 0.01652273138661875)"
      ]
     },
     "execution_count": 12,
     "metadata": {},
     "output_type": "execute_result"
    }
   ],
   "source": [
    "total_perside_piball_loss(test_data,pred,alpha=0.25)"
   ]
  },
  {
   "cell_type": "code",
   "execution_count": 14,
   "metadata": {},
   "outputs": [],
   "source": [
    "pred = []\n",
    "for i in range(801,1000):\n",
    "    model = SimpleExpSmoothing(diff_df[\"sec\"][:i], initialization_method=\"estimated\").fit()\n",
    "    predict = model.predict(start=i+1, end=(i+1))\n",
    "    pred.append(predict[i+1])"
   ]
  },
  {
   "cell_type": "code",
   "execution_count": 15,
   "metadata": {},
   "outputs": [
    {
     "name": "stdout",
     "output_type": "stream",
     "text": [
      "there are 100 underEstimates with mean 0.00910203841044454 \n",
      "there are 99 overEstimates with mean 0.02391987149587997\n",
      "total mean absolute pinball score 0.01647372421676669\n"
     ]
    },
    {
     "data": {
      "text/plain": [
       "(0.00910203841044454, 0.02391987149587997, 0.01647372421676669)"
      ]
     },
     "execution_count": 15,
     "metadata": {},
     "output_type": "execute_result"
    }
   ],
   "source": [
    "total_perside_piball_loss(test_data,pred,alpha=0.25)"
   ]
  },
  {
   "attachments": {},
   "cell_type": "markdown",
   "metadata": {},
   "source": [
    "##  Holt"
   ]
  },
  {
   "cell_type": "code",
   "execution_count": 16,
   "metadata": {},
   "outputs": [],
   "source": [
    "from statsmodels.tsa.api import  Holt"
   ]
  },
  {
   "cell_type": "code",
   "execution_count": 19,
   "metadata": {},
   "outputs": [],
   "source": [
    "model = Holt(diff_df[\"sec\"], initialization_method=\"estimated\")\n",
    "result = model.fit()"
   ]
  },
  {
   "cell_type": "code",
   "execution_count": 20,
   "metadata": {},
   "outputs": [],
   "source": [
    "pred =  result.predict(start=801, end=(999))"
   ]
  },
  {
   "cell_type": "code",
   "execution_count": 21,
   "metadata": {},
   "outputs": [
    {
     "data": {
      "text/plain": [
       "[<matplotlib.lines.Line2D at 0x7f8dbfcbc4f0>]"
      ]
     },
     "execution_count": 21,
     "metadata": {},
     "output_type": "execute_result"
    },
    {
     "data": {
      "image/png": "[encoded data removed]",
      "text/plain": [
       "<Figure size 640x480 with 1 Axes>"
      ]
     },
     "metadata": {},
     "output_type": "display_data"
    }
   ],
   "source": [
    "plt.plot(pred,'yo')\n",
    "plt.plot(test_data,'o', color='red')"
   ]
  },
  {
   "cell_type": "code",
   "execution_count": 22,
   "metadata": {},
   "outputs": [
    {
     "name": "stdout",
     "output_type": "stream",
     "text": [
      "there are 96 underEstimates with mean 0.008902758087283266 \n",
      "there are 103 overEstimates with mean 0.024602351842317866\n",
      "total mean absolute pinball score 0.017028678473054944\n"
     ]
    },
    {
     "data": {
      "text/plain": [
       "(0.008902758087283266, 0.024602351842317866, 0.017028678473054944)"
      ]
     },
     "execution_count": 22,
     "metadata": {},
     "output_type": "execute_result"
    }
   ],
   "source": [
    "total_perside_piball_loss(test_data,pred,alpha=0.25)"
   ]
  },
  {
   "cell_type": "code",
   "execution_count": 23,
   "metadata": {},
   "outputs": [],
   "source": [
    "pred = []\n",
    "for i in range(801,1000):\n",
    "    model = Holt(diff_df[\"sec\"][:i], initialization_method=\"estimated\").fit()\n",
    "    predict = model.predict(start=i+1, end=(i+1))\n",
    "    pred.append(predict[i+1])"
   ]
  },
  {
   "cell_type": "code",
   "execution_count": 24,
   "metadata": {},
   "outputs": [
    {
     "name": "stdout",
     "output_type": "stream",
     "text": [
      "there are 94 underEstimates with mean 0.009150895870901716 \n",
      "there are 105 overEstimates with mean 0.024252606830092643\n",
      "total mean absolute pinball score 0.0171191353217311\n"
     ]
    },
    {
     "data": {
      "text/plain": [
       "(0.009150895870901716, 0.024252606830092643, 0.0171191353217311)"
      ]
     },
     "execution_count": 24,
     "metadata": {},
     "output_type": "execute_result"
    }
   ],
   "source": [
    "total_perside_piball_loss(test_data,pred,alpha=0.25)"
   ]
  },
  {
   "cell_type": "code",
   "execution_count": null,
   "metadata": {},
   "outputs": [],
   "source": []
  },
  {
   "attachments": {},
   "cell_type": "markdown",
   "metadata": {},
   "source": [
    "# holtz winter"
   ]
  },
  {
   "cell_type": "code",
   "execution_count": 7,
   "metadata": {},
   "outputs": [],
   "source": [
    "from statsmodels.tsa.api import ExponentialSmoothing"
   ]
  },
  {
   "cell_type": "code",
   "execution_count": 8,
   "metadata": {},
   "outputs": [],
   "source": [
    "model = ExponentialSmoothing(diff_df[\"sec\"], initialization_method=\"estimated\")\n",
    "result = model.fit()\n",
    "pred =  result.predict(start=801, end=(999))"
   ]
  },
  {
   "cell_type": "code",
   "execution_count": 9,
   "metadata": {},
   "outputs": [
    {
     "data": {
      "text/plain": [
       "[<matplotlib.lines.Line2D at 0x7f9457f7ad40>]"
      ]
     },
     "execution_count": 9,
     "metadata": {},
     "output_type": "execute_result"
    },
    {
     "data": {
      "image/png": "[encoded data removed]",
      "text/plain": [
       "<Figure size 640x480 with 1 Axes>"
      ]
     },
     "metadata": {},
     "output_type": "display_data"
    }
   ],
   "source": [
    "plt.plot(pred,'yo')\n",
    "plt.plot(test_data,'o', color='red')"
   ]
  },
  {
   "cell_type": "code",
   "execution_count": 10,
   "metadata": {},
   "outputs": [
    {
     "name": "stdout",
     "output_type": "stream",
     "text": [
      "there are 102 underEstimates with mean 0.008848771066131862 \n",
      "there are 97 overEstimates with mean 0.024592256672079184\n",
      "total mean absolute pinball score 0.01652273138661875\n"
     ]
    },
    {
     "data": {
      "text/plain": [
       "(0.008848771066131862, 0.024592256672079184, 0.01652273138661875)"
      ]
     },
     "execution_count": 10,
     "metadata": {},
     "output_type": "execute_result"
    }
   ],
   "source": [
    "total_perside_piball_loss(test_data,pred,alpha=0.25)"
   ]
  },
  {
   "cell_type": "code",
   "execution_count": 11,
   "metadata": {},
   "outputs": [],
   "source": [
    "pred = []\n",
    "for i in range(801,1000):\n",
    "    model = ExponentialSmoothing(diff_df[\"sec\"][:i], initialization_method=\"estimated\").fit()\n",
    "    predict = model.predict(start=i+1, end=(i+1))\n",
    "    pred.append(predict[i+1])"
   ]
  },
  {
   "cell_type": "code",
   "execution_count": 12,
   "metadata": {},
   "outputs": [
    {
     "name": "stdout",
     "output_type": "stream",
     "text": [
      "there are 100 underEstimates with mean 0.00910203841044454 \n",
      "there are 99 overEstimates with mean 0.02391987149587997\n",
      "total mean absolute pinball score 0.01647372421676669\n"
     ]
    },
    {
     "data": {
      "text/plain": [
       "(0.00910203841044454, 0.02391987149587997, 0.01647372421676669)"
      ]
     },
     "execution_count": 12,
     "metadata": {},
     "output_type": "execute_result"
    }
   ],
   "source": [
    "total_perside_piball_loss(test_data,pred,alpha=0.25)"
   ]
  },
  {
   "cell_type": "code",
   "execution_count": null,
   "metadata": {},
   "outputs": [],
   "source": []
  },
  {
   "cell_type": "code",
   "execution_count": null,
   "metadata": {},
   "outputs": [],
   "source": []
  }
 ],
 "metadata": {
  "kernelspec": {
   "display_name": ".venv",
   "language": "python",
   "name": "python3"
  },
  "language_info": {
   "codemirror_mode": {
    "name": "ipython",
    "version": 3
   },
   "file_extension": ".py",
   "mimetype": "text/x-python",
   "name": "python",
   "nbconvert_exporter": "python",
   "pygments_lexer": "ipython3",
   "version": "3.10.6"
  },
  "orig_nbformat": 4,
  "vscode": {
   "interpreter": {
    "hash": "9cd281a3e114f5d4c059215363e4f162fc7c8769c1c2cd08e279ff658b952d31"
   }
  }
 },
 "nbformat": 4,
 "nbformat_minor": 2
}
